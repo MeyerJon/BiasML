{
 "cells": [
  {
   "cell_type": "code",
   "execution_count": 1,
   "metadata": {},
   "outputs": [],
   "source": [
    "%load_ext autoreload\n",
    "%autoreload 2"
   ]
  },
  {
   "cell_type": "code",
   "execution_count": 2,
   "metadata": {},
   "outputs": [],
   "source": [
    "from bias.data import Dataset, DS_IXS\n",
    "from bias.formal import Lambda\n",
    "import bias.transforms as tf\n",
    "import numpy as np\n",
    "import math"
   ]
  },
  {
   "cell_type": "code",
   "execution_count": 3,
   "metadata": {},
   "outputs": [],
   "source": [
    "gen_dists = {\n",
    "    \"x_discrete\": True,\n",
    "    \"a_pos\": 0.5,\n",
    "    \"g_pos\": 0.5,\n",
    "    \"x_amt\": 10\n",
    "}\n",
    "ds = Dataset(100000, gen_dists)"
   ]
  },
  {
   "cell_type": "code",
   "execution_count": 6,
   "metadata": {},
   "outputs": [
    {
     "name": "stdout",
     "output_type": "stream",
     "text": [
      "% Priv./Unpriv.: 0.499 / 0.501\n",
      "% Pos./Neg.: 0.501 / 0.499\n",
      "P(G = 1 | A = 0): 0.502\n",
      "P(G = 0 | A = 0): 0.498\n",
      "P(G = 1 | A = 1): 0.500\n",
      "P(G = 0 | A = 1): 0.500\n",
      "Disp. Impact:  0.9959838983399505\n"
     ]
    }
   ],
   "source": [
    "ds.general_stats()\n",
    "print(\"Disp. Impact: \", ds.disparate_impact())"
   ]
  },
  {
   "cell_type": "markdown",
   "metadata": {},
   "source": [
    "**Introducing bias with addition**<br>\n",
    "Adding one copy of each (A=1, G=1) and (A=0, G=0) tuple by setting their weights to 2."
   ]
  },
  {
   "cell_type": "code",
   "execution_count": 7,
   "metadata": {},
   "outputs": [],
   "source": [
    "l_dist = Lambda(target_a = 1, target_g = 1, p_pos = 1.0) # Targeting privileged positive\n",
    "reweigh_bias = tf.reweighing(ds.data, l_dist, gamma=2)\n",
    "l_dist = Lambda(target_a = 0, target_g = 0, p_pos = 1.0) # Targeting unprivileged negative\n",
    "reweigh_bias = tf.reweighing(reweigh_bias, l_dist, gamma=2)\n",
    "reweigh_bias_ds = Dataset.from_array(reweigh_bias)"
   ]
  },
  {
   "cell_type": "code",
   "execution_count": 8,
   "metadata": {},
   "outputs": [
    {
     "name": "stdout",
     "output_type": "stream",
     "text": [
      "% Priv./Unpriv.: 0.500 / 0.500\n",
      "% Pos./Neg.: 0.501 / 0.499\n",
      "P(G = 1 | A = 0): 0.335\n",
      "P(G = 0 | A = 0): 0.665\n",
      "P(G = 1 | A = 1): 0.667\n",
      "P(G = 0 | A = 1): 0.333\n",
      "Disp. Impact:  1.988678075730842\n"
     ]
    }
   ],
   "source": [
    "reweigh_bias_ds.general_stats()\n",
    "print(\"Disp. Impact: \", reweigh_bias_ds.disparate_impact())"
   ]
  },
  {
   "cell_type": "code",
   "execution_count": 9,
   "metadata": {},
   "outputs": [
    {
     "name": "stdout",
     "output_type": "stream",
     "text": [
      "TN: 49876\n",
      "FN: 0\n",
      "TP: 50124\n",
      "FP: 0\n"
     ]
    }
   ],
   "source": [
    "ds.conf_matrix(reweigh_bias_ds)"
   ]
  },
  {
   "cell_type": "code",
   "execution_count": 10,
   "metadata": {},
   "outputs": [],
   "source": [
    "add_rw = tf.Reweigher(reweigh_bias_ds)\n",
    "add_rw.reweigh()\n",
    "reweigh_fair_ds = Dataset.from_array(add_rw.fair_data)"
   ]
  },
  {
   "cell_type": "code",
   "execution_count": 11,
   "metadata": {},
   "outputs": [
    {
     "name": "stdout",
     "output_type": "stream",
     "text": [
      "% Priv./Unpriv.: 0.500 / 0.500\n",
      "% Pos./Neg.: 0.501 / 0.499\n",
      "P(G = 1 | A = 0): 0.501\n",
      "P(G = 0 | A = 0): 0.499\n",
      "P(G = 1 | A = 1): 0.501\n",
      "P(G = 0 | A = 1): 0.499\n",
      "Disp. Impact:  1.0000000000010607\n"
     ]
    }
   ],
   "source": [
    "reweigh_fair_ds.general_stats()\n",
    "print(\"Disp. Impact: \", reweigh_fair_ds.disparate_impact())"
   ]
  },
  {
   "cell_type": "markdown",
   "metadata": {},
   "source": [
    "**Introducing bias with modification**<br>\n",
    "$P(Y|A) = P(Y=1|G=1,A)P(G=1)+ P(Y=1|G=0,A)P(G=0)$<br>\n",
    "You can see $P(Y=1|G=1,A)$ as the probability that your lambda doesn't change the label and $P(Y=1|G=0,A)$ as the probability that lambda change the label."
   ]
  },
  {
   "cell_type": "code",
   "execution_count": 12,
   "metadata": {},
   "outputs": [],
   "source": [
    "ppos = 1.0 / 3.0\n",
    "l_dist = Lambda(target_a = 1, target_g = 0, p_pos = ppos) # Targeting privileged negative\n",
    "modify_bias = tf.modify(ds.data, l_dist)\n",
    "l_dist = Lambda(target_a = 0, target_g = 1, p_pos = ppos) # Targeting unprivileged positive\n",
    "modify_bias = tf.modify(modify_bias, l_dist)\n",
    "modify_bias_ds = Dataset.from_array(modify_bias)"
   ]
  },
  {
   "cell_type": "code",
   "execution_count": 13,
   "metadata": {},
   "outputs": [
    {
     "name": "stdout",
     "output_type": "stream",
     "text": [
      "% Priv./Unpriv.: 0.499 / 0.501\n",
      "% Pos./Neg.: 0.500 / 0.500\n",
      "P(G = 1 | A = 0): 0.333\n",
      "P(G = 0 | A = 0): 0.667\n",
      "P(G = 1 | A = 1): 0.667\n",
      "P(G = 0 | A = 1): 0.333\n",
      "Disp. Impact:  2.0020827212736148\n"
     ]
    }
   ],
   "source": [
    "modify_bias_ds.general_stats()\n",
    "print(\"Disp. Impact: \", modify_bias_ds.disparate_impact())"
   ]
  },
  {
   "cell_type": "code",
   "execution_count": 14,
   "metadata": {},
   "outputs": [
    {
     "name": "stdout",
     "output_type": "stream",
     "text": [
      "TN: 41526\n",
      "FN: 8454\n",
      "TP: 41670\n",
      "FP: 8350\n"
     ]
    }
   ],
   "source": [
    "ds.conf_matrix(modify_bias_ds)"
   ]
  },
  {
   "cell_type": "code",
   "execution_count": 15,
   "metadata": {},
   "outputs": [],
   "source": [
    "mod_rw = tf.Reweigher(modify_bias_ds)\n",
    "mod_rw.reweigh()\n",
    "modify_fair_ds = Dataset.from_array(mod_rw.fair_data)"
   ]
  },
  {
   "cell_type": "code",
   "execution_count": 16,
   "metadata": {},
   "outputs": [
    {
     "name": "stdout",
     "output_type": "stream",
     "text": [
      "% Priv./Unpriv.: 0.499 / 0.501\n",
      "% Pos./Neg.: 0.500 / 0.500\n",
      "P(G = 1 | A = 0): 0.500\n",
      "P(G = 0 | A = 0): 0.500\n",
      "P(G = 1 | A = 1): 0.500\n",
      "P(G = 0 | A = 1): 0.500\n",
      "Disp. Impact:  0.9999999999996853\n"
     ]
    }
   ],
   "source": [
    "modify_fair_ds.general_stats()\n",
    "print(\"Disp. Impact: \", modify_fair_ds.disparate_impact())"
   ]
  },
  {
   "cell_type": "markdown",
   "metadata": {},
   "source": [
    "**Introducing bias using removal**"
   ]
  },
  {
   "cell_type": "code",
   "execution_count": 17,
   "metadata": {},
   "outputs": [],
   "source": [
    "l_dist = Lambda(target_a = 0, target_g = 1, p_pos = 0.5) # Targeting privileged positive\n",
    "rem_bias = tf.deletion(ds.data, l_dist)\n",
    "l_dist = Lambda(target_a = 1, target_g = 0, p_pos = 0.5) # Targeting unprivileged negative\n",
    "rem_bias = tf.deletion(rem_bias, l_dist)\n",
    "rem_bias_ds = Dataset.from_array(rem_bias)"
   ]
  },
  {
   "cell_type": "code",
   "execution_count": 18,
   "metadata": {},
   "outputs": [
    {
     "name": "stdout",
     "output_type": "stream",
     "text": [
      "% Priv./Unpriv.: 0.499 / 0.501\n",
      "% Pos./Neg.: 0.502 / 0.498\n",
      "P(G = 1 | A = 0): 0.337\n",
      "P(G = 0 | A = 0): 0.663\n",
      "P(G = 1 | A = 1): 0.668\n",
      "P(G = 0 | A = 1): 0.332\n",
      "Disp. Impact:  1.984898424858461\n"
     ]
    }
   ],
   "source": [
    "rem_bias_ds.general_stats()\n",
    "print(\"Disp. Impact: \", rem_bias_ds.disparate_impact())"
   ]
  },
  {
   "cell_type": "code",
   "execution_count": 19,
   "metadata": {},
   "outputs": [],
   "source": [
    "rem_rw = tf.Reweigher(rem_bias_ds)\n",
    "rem_rw.reweigh()\n",
    "rem_fair_ds = Dataset.from_array(rem_rw.fair_data)"
   ]
  },
  {
   "cell_type": "code",
   "execution_count": 20,
   "metadata": {},
   "outputs": [
    {
     "name": "stdout",
     "output_type": "stream",
     "text": [
      "% Priv./Unpriv.: 0.499 / 0.501\n",
      "% Pos./Neg.: 0.502 / 0.498\n",
      "P(G = 1 | A = 0): 0.502\n",
      "P(G = 0 | A = 0): 0.498\n",
      "P(G = 1 | A = 1): 0.502\n",
      "P(G = 0 | A = 1): 0.498\n",
      "Disp. Impact:  0.9999999999991843\n"
     ]
    }
   ],
   "source": [
    "rem_fair_ds.general_stats()\n",
    "print(\"Disp. Impact: \", rem_fair_ds.disparate_impact())"
   ]
  },
  {
   "cell_type": "markdown",
   "metadata": {},
   "source": [
    "**Probability of label conditional on X, A**<br>\n",
    "We can achieve $P(Y | A)$ arbitrarily (using any operation, i.e. $P(Y_{add} | A) = P(Y_{mod} | A)$).<br>\n",
    "However, $P(Y_{add} | X, A) \\ne P(Y_{mod} | X, A)$"
   ]
  },
  {
   "cell_type": "code",
   "execution_count": 19,
   "metadata": {},
   "outputs": [],
   "source": [
    "x = 4\n",
    "a = 1\n",
    "g = 1\n",
    "p_gax = ds.P(selection=(DS_IXS.G_IX, g), conditions=[(DS_IXS.A_IX, a), (1, x)])\n",
    "p_yax_add = reweigh_fair_ds.P(selection=(DS_IXS.G_IX, g), conditions=[(DS_IXS.A_IX, a), (1, x)])\n",
    "p_yax_mod = modify_fair_ds.P(selection=(DS_IXS.G_IX, g), conditions=[(DS_IXS.A_IX, a), (1, x)])\n",
    "p_yax_rem = rem_fair_ds.P(selection=(DS_IXS.G_IX, g), conditions=[(DS_IXS.A_IX, a), (1, x)])"
   ]
  },
  {
   "cell_type": "code",
   "execution_count": 20,
   "metadata": {},
   "outputs": [
    {
     "name": "stdout",
     "output_type": "stream",
     "text": [
      "Original: 0.23732718894009217\n",
      "Add + RW: 0.2395284967915569\n",
      "Mod + RW: 0.3116476607893394\n",
      "Rem + RW: 0.23854839531398195\n"
     ]
    }
   ],
   "source": [
    "print(\"Original:\", p_gax)\n",
    "print(\"Add + RW:\", p_yax_add)\n",
    "print(\"Mod + RW:\", p_yax_mod)\n",
    "print(\"Rem + RW:\", p_yax_rem)"
   ]
  },
  {
   "cell_type": "markdown",
   "metadata": {},
   "source": [
    "### Additional experiments"
   ]
  },
  {
   "cell_type": "code",
   "execution_count": 4,
   "metadata": {},
   "outputs": [],
   "source": [
    "from exp import prep_synth_datasets"
   ]
  },
  {
   "cell_type": "code",
   "execution_count": 121,
   "metadata": {},
   "outputs": [],
   "source": [
    "gen_dists = {\n",
    "    \"x_discrete\": True,\n",
    "    \"a_pos\": 0.5,\n",
    "    \"g_pos\": 0.5,\n",
    "    \"x_amt\": 1\n",
    "}\n",
    "data = prep_synth_datasets(n=50000, gen_dists=gen_dists)"
   ]
  },
  {
   "cell_type": "code",
   "execution_count": 126,
   "metadata": {},
   "outputs": [],
   "source": [
    "def P_class_ax(ds, c, a, x):\n",
    "    \"\"\"\n",
    "        Returns P(Class = c | A = a, X = x) for the given Dataset.\n",
    "    \"\"\"\n",
    "    cond = [((DS_IXS.A_IX, a))]\n",
    "    if not isinstance(x, list):\n",
    "        x = [x]\n",
    "    for i in range(len(x)):\n",
    "        cond.append((i+1, x[i]))\n",
    "    return ds.P(selection=(DS_IXS.G_IX, c), conditions=cond)\n",
    "    #return ds.P_class_ax(c, a, x)"
   ]
  },
  {
   "cell_type": "code",
   "execution_count": 127,
   "metadata": {},
   "outputs": [],
   "source": [
    "def avg_diff_p_ca(data, c, a):\n",
    "    \"\"\"\n",
    "        Returns average difference between P(G = c | A = a, X) and P(Y = c | A = a, X)\n",
    "        Data is assumed to be a dict with \"og\" and \"fair\" data (see 'exp.prep_synth_datasets' for reference)\n",
    "    \"\"\"\n",
    "    x_vals = np.unique(data[\"og\"].data[:,1])\n",
    "    diffs = {\n",
    "        \"add\": list(),\n",
    "        \"mod\": list(),\n",
    "        \"rem\": list()\n",
    "    }\n",
    "    f_diff = lambda a, b : abs(a - b)\n",
    "    for x in x_vals:\n",
    "        #p_gax = data[\"og\"].P_class_ax(c, a, x) # Precise method possible for OG data\n",
    "        p_gax = P_class_ax(data[\"og\"], c, a, x) # Old counting method\n",
    "        p_yax_add = P_class_ax(data[\"fair\"][\"add\"], c, a, x)\n",
    "        p_yax_mod = P_class_ax(data[\"fair\"][\"mod\"], c, a, x)\n",
    "        p_yax_rem = P_class_ax(data[\"fair\"][\"rem\"], c, a, x)\n",
    "        \n",
    "        diffs[\"add\"].append(f_diff(p_gax, p_yax_add))\n",
    "        diffs[\"mod\"].append(f_diff(p_gax, p_yax_mod))\n",
    "        diffs[\"rem\"].append(f_diff(p_gax, p_yax_rem))\n",
    "    \n",
    "    avg = lambda l : sum(l) / len(l)\n",
    "    print(\"Avg. differences\")\n",
    "    print(f\" Add: {avg(diffs['add'])}\")\n",
    "    print(f\" Mod: {avg(diffs['mod'])}\")\n",
    "    print(f\" Rem: {avg(diffs['rem'])}\")\n",
    "    "
   ]
  },
  {
   "cell_type": "code",
   "execution_count": 128,
   "metadata": {},
   "outputs": [
    {
     "name": "stdout",
     "output_type": "stream",
     "text": [
      "Avg. differences\n",
      " Add: 0.00048427570769406356\n",
      " Mod: 0.04682955296985632\n",
      " Rem: 0.0012941642792635994\n"
     ]
    }
   ],
   "source": [
    "avg_diff_p_ca(data, c=1, a=1)"
   ]
  },
  {
   "cell_type": "code",
   "execution_count": 129,
   "metadata": {},
   "outputs": [
    {
     "name": "stdout",
     "output_type": "stream",
     "text": [
      "Avg. differences\n",
      " Add: 0.00011938342931479207\n",
      " Mod: 0.10472138274312759\n",
      " Rem: 0.0011311292275490758\n"
     ]
    }
   ],
   "source": [
    "avg_diff_p_ca(data, c=1, a=0)"
   ]
  },
  {
   "cell_type": "code",
   "execution_count": 130,
   "metadata": {},
   "outputs": [
    {
     "name": "stdout",
     "output_type": "stream",
     "text": [
      "Avg. differences\n",
      " Add: 0.00048427570769370035\n",
      " Mod: 0.04682955296985494\n",
      " Rem: 0.0012941642792634552\n"
     ]
    }
   ],
   "source": [
    "avg_diff_p_ca(data, c=0, a=1)"
   ]
  },
  {
   "cell_type": "code",
   "execution_count": 131,
   "metadata": {},
   "outputs": [
    {
     "name": "stdout",
     "output_type": "stream",
     "text": [
      "Avg. differences\n",
      " Add: 0.00011938342931382478\n",
      " Mod: 0.10472138274312559\n",
      " Rem: 0.001131129227549194\n"
     ]
    }
   ],
   "source": [
    "avg_diff_p_ca(data, c=0, a=0)"
   ]
  },
  {
   "cell_type": "code",
   "execution_count": 41,
   "metadata": {},
   "outputs": [
    {
     "data": {
      "text/plain": [
       "0.0034173697027313757"
      ]
     },
     "execution_count": 41,
     "metadata": {},
     "output_type": "execute_result"
    }
   ],
   "source": [
    "data[\"bias\"][\"mod\"].P_class_ax(c=0, a=0, x=6)"
   ]
  },
  {
   "cell_type": "code",
   "execution_count": 132,
   "metadata": {},
   "outputs": [
    {
     "data": {
      "text/plain": [
       "[{0: {0: 1, 1: 7}, 1: {0: 4, 1: 12}}]"
      ]
     },
     "execution_count": 132,
     "metadata": {},
     "output_type": "execute_result"
    }
   ],
   "source": [
    "data[\"og\"].generator._x_dists"
   ]
  },
  {
   "cell_type": "code",
   "execution_count": 136,
   "metadata": {},
   "outputs": [
    {
     "name": "stdout",
     "output_type": "stream",
     "text": [
      "% Priv./Unpriv.: 0.497 / 0.503\n",
      "% Pos./Neg.: 0.501 / 0.499\n",
      "P(G = 1 | A = 0): 0.332\n",
      "P(G = 0 | A = 0): 0.668\n",
      "P(G = 1 | A = 1): 0.671\n",
      "P(G = 0 | A = 1): 0.329\n"
     ]
    }
   ],
   "source": [
    "data[\"bias\"][\"add\"].general_stats()"
   ]
  },
  {
   "cell_type": "code",
   "execution_count": 96,
   "metadata": {},
   "outputs": [
    {
     "ename": "SyntaxError",
     "evalue": "invalid syntax (<ipython-input-96-6e7f261f638b>, line 6)",
     "output_type": "error",
     "traceback": [
      "\u001b[0;36m  File \u001b[0;32m\"<ipython-input-96-6e7f261f638b>\"\u001b[0;36m, line \u001b[0;32m6\u001b[0m\n\u001b[0;31m    ODDS(Y | X, A)  =  [P(A | Y = 0) / P(A | Y = 1)] ODDS(Y = 1 | X, A)\u001b[0m\n\u001b[0m                                                     ^\u001b[0m\n\u001b[0;31mSyntaxError\u001b[0m\u001b[0;31m:\u001b[0m invalid syntax\n"
     ]
    }
   ],
   "source": [
    "# 1. Count using: P(G | X, A) = P(X, A, G) / P(X, A)  =  (X | A, G) (G) (A) / [(X, A, G=1) + (X, A, G=0)]\n",
    "# 2. Use classifiers to get P(Y | X, A) (bc. counting is not so precise)\n",
    "# 3. Try other (fairness) methods too\n",
    "# 4. Big experiment to see where stuff breaks (diff. models & diff. methods)\n",
    "\n",
    "ODDS(Y | X, A)  =  [P(A | Y = 0) / P(A | Y = 1)] ODDS(Y = 1 | X, A)"
   ]
  },
  {
   "cell_type": "code",
   "execution_count": 87,
   "metadata": {},
   "outputs": [
    {
     "name": "stdout",
     "output_type": "stream",
     "text": [
      "Expected: 0.25413424347467006\n",
      "Actual: 0.2625427081460169\n"
     ]
    }
   ],
   "source": [
    "# P(G = 1 | A = 0, X = 4)\n",
    "g, a, x = 1, 0, 4\n",
    "p_actual = ds.P(selection=(DS_IXS.G_IX, g), conditions=[(DS_IXS.A_IX, a), (1, x)])\n",
    "p_exp = ds.P_class_ax(g, a, x)\n",
    "print(\"Expected:\", p_exp)\n",
    "print(\"Actual:\", p_actual)#P_class_ax(ds, g, a, x))"
   ]
  },
  {
   "cell_type": "code",
   "execution_count": 32,
   "metadata": {},
   "outputs": [
    {
     "data": {
      "image/png": "[encoded data removed]",
      "text/plain": [
       "<Figure size 432x288 with 1 Axes>"
      ]
     },
     "metadata": {
      "needs_background": "light"
     },
     "output_type": "display_data"
    }
   ],
   "source": [
    "import matplotlib.pyplot as plt\n",
    "\n",
    "rb = 20\n",
    "p_exp_10 = [ds.P_class_ax(c=1, a=0, x=x) for x in range(0, rb)]\n",
    "p_exp_11 = [ds.P_class_ax(c=1, a=1, x=x) for x in range(0, rb)]\n",
    "\n",
    "plt.plot(list(range(0, rb)), p_exp_10, marker='.', linestyle='dashed', label='P(G=1 | a=0, x)')\n",
    "plt.plot(list(range(0, rb)), p_exp_11, marker='.', linestyle='dashed', label='P(G=1 | a=1, x)')\n",
    "plt.legend()\n",
    "plt.show()"
   ]
  },
  {
   "cell_type": "code",
   "execution_count": 39,
   "metadata": {},
   "outputs": [
    {
     "data": {
      "image/png": "[encoded data removed]",
      "text/plain": [
       "<Figure size 432x288 with 1 Axes>"
      ]
     },
     "metadata": {
      "needs_background": "light"
     },
     "output_type": "display_data"
    }
   ],
   "source": [
    "rb = 15\n",
    "p_00 = [ds.generator.p_x_ag(x=x, a=0, g=0) for x in range(0, rb)]\n",
    "p_01 = [ds.generator.p_x_ag(x=x, a=0, g=1) for x in range(0, rb)]\n",
    "p_10 = [ds.generator.p_x_ag(x=x, a=1, g=0) for x in range(0, rb)]\n",
    "p_11 = [ds.generator.p_x_ag(x=x, a=1, g=1) for x in range(0, rb)]\n",
    "\n",
    "plt.plot(list(range(0, len(p_00))), p_00, marker='.', linestyle='dashed', label='P(x | a=0, g=0)')\n",
    "plt.plot(list(range(0, len(p_00))), p_01, marker='.', linestyle='dashed', label='P(x | a=0, g=1)')\n",
    "plt.plot(list(range(0, len(p_00))), p_10, marker='.', linestyle='dashed', label='P(x | a=1, g=0)')\n",
    "plt.plot(list(range(0, len(p_00))), p_11, marker='.', linestyle='dashed', label='P(x | a=1, g=1)')\n",
    "plt.legend()\n",
    "plt.show()"
   ]
  },
  {
   "cell_type": "markdown",
   "metadata": {},
   "source": [
    "### Classification"
   ]
  },
  {
   "cell_type": "code",
   "execution_count": 33,
   "metadata": {},
   "outputs": [],
   "source": [
    "from sklearn.naive_bayes import GaussianNB\n",
    "from sklearn.neighbors import KNeighborsClassifier\n",
    "from sklearn.tree import DecisionTreeClassifier\n",
    "from sklearn.metrics import confusion_matrix"
   ]
  },
  {
   "cell_type": "code",
   "execution_count": 34,
   "metadata": {},
   "outputs": [],
   "source": [
    "train_percent = 0.7"
   ]
  },
  {
   "cell_type": "code",
   "execution_count": 35,
   "metadata": {},
   "outputs": [],
   "source": [
    "def get_classifier(model_type, ds, train_percent=0.7):\n",
    "    \n",
    "    # Data splits\n",
    "    X_train, Y_train, W_train, X_test, Y_test = ds.train_test_split(train_percent)\n",
    "    \n",
    "    # Model training\n",
    "    clf = model_type()\n",
    "    print(f\"Fitting model on {len(X_train)} samples.\")\n",
    "    try:\n",
    "        clf.fit(X_train, Y_train, sample_weight=W_train)\n",
    "    except TypeError as e:\n",
    "        clf.fit(X_train, Y_train) # Model with no sample weight param\n",
    "    \n",
    "    # Accuracy evaluation\n",
    "    pred = clf.predict(X_test)\n",
    "    cfm = confusion_matrix(Y_test, pred)\n",
    "    tn, fp, fn, tp = cfm.ravel()\n",
    "    print(f\"TN: {tn}\")\n",
    "    print(f\"FN: {fn}\")\n",
    "    print(f\"TP: {tp}\")\n",
    "    print(f\"FP: {fp}\")\n",
    "    print(f\"Accuracy: {((tn+tp)/(len(pred))):.3f}\")\n",
    "    \n",
    "    return clf\n",
    "    \n",
    "    \"\"\"\n",
    "    # Checking relevant probabilities\n",
    "    # P(G | X, A) (this is what the model learns)\n",
    "    #probs = clf.predict_proba(X_test)\n",
    "    # Check full range of X values\n",
    "    x_vals = np.unique(data[\"og\"].data[:,1])\n",
    "    f_diff = lambda a, b : abs(a - b)\n",
    "    \"\"\"\n",
    "    \n",
    "    "
   ]
  },
  {
   "cell_type": "code",
   "execution_count": 36,
   "metadata": {},
   "outputs": [],
   "source": [
    "def eval_model_proba(fair_ds, model):\n",
    "    \"\"\"\n",
    "        Returns the Mean Absolute Error between the original data and the given model.\n",
    "        = | P(G | A, X) - P(Y | A, X) |\n",
    "    \"\"\"\n",
    "    x_vals = np.unique(fair_ds.data[:,1])\n",
    "    diffs = {\n",
    "        0: list(),\n",
    "        1: list()\n",
    "    }\n",
    "    f_diff = lambda a, b : abs(a - b)\n",
    "    for x in x_vals:\n",
    "        for a in [0, 1]:\n",
    "            p_gax = fair_ds.P_class_ax(c = 1, a=a, x=x)\n",
    "            p_yax = model.predict_proba([[x, a]])[0][1] # Proba's for both classes, we only care about the positive G = 1\n",
    "\n",
    "            diffs[a].append(f_diff(p_gax, p_yax))\n",
    "    \n",
    "    avg = lambda l : sum(l) / len(l)\n",
    "    mae_0 = avg(diffs[0])\n",
    "    mae_1 = avg(diffs[1])\n",
    "    print(\"P(Class = 1 | A = 0, X) MAE:\", mae_0)\n",
    "    print(\"P(Class = 1 | A = 1, X) MAE:\", mae_1)\n",
    "    return mae_0, mae_1"
   ]
  },
  {
   "cell_type": "code",
   "execution_count": 37,
   "metadata": {},
   "outputs": [],
   "source": [
    "from exp import prep_synth_datasets"
   ]
  },
  {
   "cell_type": "code",
   "execution_count": 38,
   "metadata": {},
   "outputs": [],
   "source": [
    "gen_dists = {\n",
    "    \"x_discrete\": True,\n",
    "    \"a_pos\": 0.5,\n",
    "    \"g_pos\": 0.5,\n",
    "    \"x_amt\": 10\n",
    "}\n",
    "data = prep_synth_datasets(n=30000)"
   ]
  },
  {
   "cell_type": "code",
   "execution_count": 39,
   "metadata": {
    "collapsed": true,
    "jupyter": {
     "outputs_hidden": true
    }
   },
   "outputs": [
    {
     "name": "stdout",
     "output_type": "stream",
     "text": [
      "Fitting model on 21000 samples.\n",
      "TN: 4002\n",
      "FN: 727\n",
      "TP: 3776\n",
      "FP: 495\n",
      "Accuracy: 0.864\n",
      "Fitting model on 21000 samples.\n",
      "TN: 4329\n",
      "FN: 358\n",
      "TP: 4145\n",
      "FP: 168\n",
      "Accuracy: 0.942\n",
      "Fitting model on 21000 samples.\n",
      "TN: 4329\n",
      "FN: 358\n",
      "TP: 4145\n",
      "FP: 168\n",
      "Accuracy: 0.942\n",
      "Fitting model on 21000 samples.\n",
      "TN: 3915\n",
      "FN: 1458\n",
      "TP: 3059\n",
      "FP: 568\n",
      "Accuracy: 0.775\n",
      "Fitting model on 21000 samples.\n",
      "TN: 3679\n",
      "FN: 1008\n",
      "TP: 3509\n",
      "FP: 804\n",
      "Accuracy: 0.799\n",
      "Fitting model on 21000 samples.\n",
      "TN: 3521\n",
      "FN: 911\n",
      "TP: 3606\n",
      "FP: 962\n",
      "Accuracy: 0.792\n",
      "Fitting model on 15782 samples.\n",
      "TN: 3140\n",
      "FN: 385\n",
      "TP: 2995\n",
      "FP: 245\n",
      "Accuracy: 0.907\n",
      "Fitting model on 15782 samples.\n",
      "TN: 3281\n",
      "FN: 263\n",
      "TP: 3117\n",
      "FP: 104\n",
      "Accuracy: 0.946\n",
      "Fitting model on 15782 samples.\n",
      "TN: 3247\n",
      "FN: 313\n",
      "TP: 3067\n",
      "FP: 138\n",
      "Accuracy: 0.933\n"
     ]
    }
   ],
   "source": [
    "model_types = [GaussianNB, DecisionTreeClassifier, KNeighborsClassifier]\n",
    "add_models = [get_classifier(m_type, data['fair']['add']) for m_type in model_types]\n",
    "mod_models = [get_classifier(m_type, data['fair']['mod']) for m_type in model_types]\n",
    "rem_models = [get_classifier(m_type, data['fair']['rem']) for m_type in model_types]"
   ]
  },
  {
   "cell_type": "code",
   "execution_count": 40,
   "metadata": {},
   "outputs": [
    {
     "name": "stdout",
     "output_type": "stream",
     "text": [
      "MAE - Addition + Reweigh\n",
      "GaussianNB()\n",
      "P(Class = 1 | A = 0, X) MAE: 0.09326270704986632\n",
      "P(Class = 1 | A = 1, X) MAE: 0.0762022954995257\n",
      "DecisionTreeClassifier()\n",
      "P(Class = 1 | A = 0, X) MAE: 0.0009677297533683191\n",
      "P(Class = 1 | A = 1, X) MAE: 0.0024950791028706806\n",
      "KNeighborsClassifier()\n",
      "P(Class = 1 | A = 0, X) MAE: 0.018112657694113028\n",
      "P(Class = 1 | A = 1, X) MAE: 0.021957339053952894\n"
     ]
    }
   ],
   "source": [
    "print(\"MAE - Addition + Reweigh\")\n",
    "for m in add_models:\n",
    "    print(m)\n",
    "    eval_model_proba(data['og'], m)"
   ]
  },
  {
   "cell_type": "code",
   "execution_count": 41,
   "metadata": {},
   "outputs": [
    {
     "name": "stdout",
     "output_type": "stream",
     "text": [
      "MAE - Modification + Reweigh\n",
      "GaussianNB()\n",
      "P(Class = 1 | A = 0, X) MAE: 0.11956372675054826\n",
      "P(Class = 1 | A = 1, X) MAE: 0.0689479682950653\n",
      "DecisionTreeClassifier()\n",
      "P(Class = 1 | A = 0, X) MAE: 0.10138008169302265\n",
      "P(Class = 1 | A = 1, X) MAE: 0.055883914663465914\n",
      "KNeighborsClassifier()\n",
      "P(Class = 1 | A = 0, X) MAE: 0.17754116653994642\n",
      "P(Class = 1 | A = 1, X) MAE: 0.07104130358271667\n"
     ]
    }
   ],
   "source": [
    "print(\"MAE - Modification + Reweigh\")\n",
    "for m in mod_models:\n",
    "    print(m)\n",
    "    eval_model_proba(data['og'], m)"
   ]
  },
  {
   "cell_type": "code",
   "execution_count": 42,
   "metadata": {},
   "outputs": [
    {
     "name": "stdout",
     "output_type": "stream",
     "text": [
      "MAE - Removal + Reweigh\n",
      "GaussianNB()\n",
      "P(Class = 1 | A = 0, X) MAE: 0.09456142201298566\n",
      "P(Class = 1 | A = 1, X) MAE: 0.07460453039408646\n",
      "DecisionTreeClassifier()\n",
      "P(Class = 1 | A = 0, X) MAE: 0.0021731056649909528\n",
      "P(Class = 1 | A = 1, X) MAE: 0.00324616723064516\n",
      "KNeighborsClassifier()\n",
      "P(Class = 1 | A = 0, X) MAE: 0.03938643080381627\n",
      "P(Class = 1 | A = 1, X) MAE: 0.04953121723548028\n"
     ]
    }
   ],
   "source": [
    "print(\"MAE - Removal + Reweigh\")\n",
    "for m in rem_models:\n",
    "    print(m)\n",
    "    eval_model_proba(data['og'], m)"
   ]
  },
  {
   "cell_type": "code",
   "execution_count": null,
   "metadata": {},
   "outputs": [],
   "source": []
  }
 ],
 "metadata": {
  "kernelspec": {
   "display_name": "Python 3",
   "language": "python",
   "name": "python3"
  },
  "language_info": {
   "codemirror_mode": {
    "name": "ipython",
    "version": 3
   },
   "file_extension": ".py",
   "mimetype": "text/x-python",
   "name": "python",
   "nbconvert_exporter": "python",
   "pygments_lexer": "ipython3",
   "version": "3.8.5"
  }
 },
 "nbformat": 4,
 "nbformat_minor": 4
}
